{
 "cells": [
  {
   "cell_type": "markdown",
   "metadata": {},
   "source": [
    "# Maharashtra College Scraper\n",
    "This notebook scrapes college data from various sources including Shiksha, College Dunia, GetMyUni, and integrates with the Clueless-Community collegeAPI.\n",
    "\n",
    "The scraped data is then saved to a JSON file which can be downloaded for use in your project."
   ]
  },
  {
   "cell_type": "code",
   "execution_count": null,
   "metadata": {},
   "outputs": [],
   "source": [
    "!pip install requests beautifulsoup4 tqdm"
   ]
  },
  {
   "cell_type": "code",
   "execution_count": null,
   "metadata": {},
   "outputs": [],
   "source": [
    "import requests\n",
    "from bs4 import BeautifulSoup\n",
    "import json\n",
    "import time\n",
    "import random\n",
    "from tqdm import tqdm\n",
    "\n",
    "def scrape_maharashtra_colleges():\n",
    "    \"\"\"\n",
    "    Scrape information about colleges in Maharashtra from multiple sources\n",
    "    and compile them into a comprehensive database.\n",
    "    \"\"\"\n",
    "    colleges = []\n",
    "    \n",
    "    # Sources to scrape\n",
    "    sources = [\n",
    "        {\n",
    "            \"name\": \"Shiksha\",\n",
    "            \"url\": \"https://www.shiksha.com/b-tech/colleges/b-tech-colleges-maharashtra\",\n",
    "            \"parser\": parse_shiksha\n",
    "        },\n",
    "        {\n",
    "            \"name\": \"College Dunia\",\n",
    "            \"url\": \"https://collegedunia.com/btech/maharashtra-colleges\",\n",
    "            \"parser\": parse_collegedunia\n",
    "        },\n",
    "        {\n",
    "            \"name\": \"GetMyUni\",\n",
    "            \"url\": \"https://www.getmyuni.com/engineering-colleges-in-maharashtra\",\n",
    "            \"parser\": parse_getmyuni\n",
    "        }\n",
    "    ]\n",
    "    \n",
    "    # Scrape each source\n",
    "    for source in sources:\n",
    "        print(f\"Scraping from {source['name']}...\")\n",
    "        try:\n",
    "            source_colleges = source[\"parser\"](source[\"url\"])\n",
    "            colleges.extend(source_colleges)\n",
    "            print(f\"Found {len(source_colleges)} colleges from {source['name']}\")\n",
    "        except Exception as e:\n",
    "            print(f\"Error scraping {source['name']}: {str(e)}\")\n",
    "        \n",
    "        # Add delay to avoid overloading servers\n",
    "        time.sleep(random.uniform(2, 5))\n",
    "    \n",
    "    # Fetch data from collegeAPI\n",
    "    print(\"Fetching data from collegeAPI...\")\n",
    "    api_colleges = fetch_from_college_api()\n",
    "    colleges.extend(api_colleges)\n",
    "    print(f\"Found {len(api_colleges)} colleges from collegeAPI\")\n",
    "    \n",
    "    # Remove duplicates based on college name\n",
    "    unique_colleges = []\n",
    "    college_names = set()\n",
    "    \n",
    "    for college in colleges:\n",
    "        if college[\"name\"] not in college_names:\n",
    "            college_names.add(college[\"name\"])\n",
    "            unique_colleges.append(college)\n",
    "    \n",
    "    print(f\"Total unique colleges found: {len(unique_colleges)}\")\n",
    "    \n",
    "    # Save to JSON file\n",
    "    with open('maharashtra_colleges.json', 'w', encoding='utf-8') as f:\n",
    "        json.dump(unique_colleges, f, indent=2, ensure_ascii=False)\n",
    "    \n",
    "    print(f\"College data saved to maharashtra_colleges.json\")\n",
    "    return unique_colleges\n",
    "\n",
    "def parse_shiksha(url):\n",
    "    # Your existing parsing logic for Shiksha\n",
    "    return []\n",
    "\n",
    "def parse_collegedunia(url):\n",
    "    # Your existing parsing logic for College Dunia\n",
    "    return []\n",
    "\n",
    "def parse_getmyuni(url):\n",
    "    # Your existing parsing logic for GetMyUni\n",
    "    return []\n",
    "\n",
    "def fetch_from_college_api():\n",
    "    # Your existing logic to fetch data from collegeAPI\n",
    "    return []\n",
    "\n",
    "# Run the scraper\n",
    "scrape_maharashtra_colleges()"
   ]
  },
  {
   "cell_type": "markdown",
   "metadata": {},
   "source": [
    "## Download the Scraped Data\n",
    "After running the scraper, you can download the `maharashtra_colleges.json` file from the Colab environment."
   ]
  },
  {
   "cell_type": "code",
   "execution_count": null,
   "metadata": {},
   "outputs": [],
   "source": [
    "from google.colab import files\n",
    "files.download('maharashtra_colleges.json')"
   ]
  }
 ],
 "metadata": {
  "kernelspec": {
   "display_name": "Python 3",
   "language": "python",
   "name": "python3"
  },
  "language_info": {
   "codemirror_mode": {
    "name": "ipython",
    "version": 3
   },
   "file_extension": ".py",
   "mimetype": "text/x-python",
   "name": "python",
   "nbconvert_exporter": "python",
   "pygments_lexer": "ipython3",
   "version": "3.7.12"
  }
 },
 "nbformat": 4,
 "nbformat_minor": 2
}
